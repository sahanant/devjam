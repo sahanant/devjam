{
  "nbformat": 4,
  "nbformat_minor": 0,
  "metadata": {
    "colab": {
      "name": "main.ipynb",
      "provenance": [],
      "collapsed_sections": [],
      "machine_shape": "hm"
    },
    "kernelspec": {
      "name": "python3",
      "display_name": "Python 3"
    },
    "accelerator": "TPU"
  },
  "cells": [
    {
      "cell_type": "code",
      "metadata": {
        "id": "aCrmh-3w_ewd",
        "colab_type": "code",
        "outputId": "ee394707-cd52-4e73-e4c3-4d3841ca95fb",
        "colab": {
          "resources": {
            "http://localhost:8080/nbextensions/google.colab/files.js": {
              "data": "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",
              "ok": true,
              "headers": [
                [
                  "content-type",
                  "application/javascript"
                ]
              ],
              "status": 200,
              "status_text": ""
            }
          },
          "base_uri": "https://localhost:8080/",
          "height": 92
        }
      },
      "source": [
        "from google.colab import files\n",
        "files.upload()"
      ],
      "execution_count": 1,
      "outputs": [
        {
          "output_type": "display_data",
          "data": {
            "text/html": [
              "\n",
              "     <input type=\"file\" id=\"files-8018ae59-fc55-4911-92f5-870aa66f6816\" name=\"files[]\" multiple disabled />\n",
              "     <output id=\"result-8018ae59-fc55-4911-92f5-870aa66f6816\">\n",
              "      Upload widget is only available when the cell has been executed in the\n",
              "      current browser session. Please rerun this cell to enable.\n",
              "      </output>\n",
              "      <script src=\"/nbextensions/google.colab/files.js\"></script> "
            ],
            "text/plain": [
              "<IPython.core.display.HTML object>"
            ]
          },
          "metadata": {
            "tags": []
          }
        },
        {
          "output_type": "stream",
          "text": [
            "Saving kaggle.json to kaggle.json\n"
          ],
          "name": "stdout"
        },
        {
          "output_type": "execute_result",
          "data": {
            "text/plain": [
              "{'kaggle.json': b'{\"username\":\"sahanant\",\"key\":\"d792fc0dc37a7cde15d9c0688a76e0d8\"}'}"
            ]
          },
          "metadata": {
            "tags": []
          },
          "execution_count": 1
        }
      ]
    },
    {
      "cell_type": "code",
      "metadata": {
        "id": "-18P331Vz1Nd",
        "colab_type": "code",
        "outputId": "7a8982f0-7ec1-4b21-bde7-80ab613566f0",
        "colab": {
          "base_uri": "https://localhost:8080/",
          "height": 34
        }
      },
      "source": [
        "from google.colab import drive\n",
        "drive.mount('/content/drive')"
      ],
      "execution_count": 17,
      "outputs": [
        {
          "output_type": "stream",
          "text": [
            "Mounted at /content/drive\n"
          ],
          "name": "stdout"
        }
      ]
    },
    {
      "cell_type": "code",
      "metadata": {
        "id": "y332nOahACZH",
        "colab_type": "code",
        "outputId": "633103a9-db69-4927-a7cb-9a9f0e766eb9",
        "colab": {
          "base_uri": "https://localhost:8080/",
          "height": 34
        }
      },
      "source": [
        "!pip install -q kaggle\n",
        "\n",
        "!mkdir -p ~/.kaggle\n",
        "!cp kaggle.json ~/.kaggle/\n",
        "!ls ~/.kaggle\n",
        "!chmod 600 /root/.kaggle/kaggle.json  # set permissio"
      ],
      "execution_count": 3,
      "outputs": [
        {
          "output_type": "stream",
          "text": [
            "kaggle.json\n"
          ],
          "name": "stdout"
        }
      ]
    },
    {
      "cell_type": "code",
      "metadata": {
        "id": "UCgtKeiPA4pC",
        "colab_type": "code",
        "outputId": "552c036f-c713-4f07-8909-65326ebfb152",
        "colab": {
          "base_uri": "https://localhost:8080/",
          "height": 68
        }
      },
      "source": [
        "!kaggle datasets download -d mateohervas/dcsass-dataset"
      ],
      "execution_count": 4,
      "outputs": [
        {
          "output_type": "stream",
          "text": [
            "Downloading dcsass-dataset.zip to /content\n",
            " 97% 671M/693M [00:03<00:00, 248MB/s]\n",
            "100% 693M/693M [00:03<00:00, 218MB/s]\n"
          ],
          "name": "stdout"
        }
      ]
    },
    {
      "cell_type": "code",
      "metadata": {
        "id": "f_ogpuRlCBzz",
        "colab_type": "code",
        "outputId": "0ec58e89-2b48-4a62-edd2-ea7483889503",
        "colab": {
          "base_uri": "https://localhost:8080/",
          "height": 34
        }
      },
      "source": [
        "import os\n",
        "!ls"
      ],
      "execution_count": 5,
      "outputs": [
        {
          "output_type": "stream",
          "text": [
            "dcsass-dataset.zip  drive  kaggle.json\tsample_data\n"
          ],
          "name": "stdout"
        }
      ]
    },
    {
      "cell_type": "code",
      "metadata": {
        "id": "6u7i80fTCPXl",
        "colab_type": "code",
        "colab": {}
      },
      "source": [
        "!unzip dcsass-dataset.zip "
      ],
      "execution_count": 0,
      "outputs": []
    },
    {
      "cell_type": "code",
      "metadata": {
        "id": "d9p1oh-iEDno",
        "colab_type": "code",
        "outputId": "28d2eb8a-27ca-43a2-dc33-bee031bc8d16",
        "colab": {
          "base_uri": "https://localhost:8080/",
          "height": 51
        }
      },
      "source": [
        "import os\n",
        "# os.getcwd()\n",
        "os.chdir('/content/DCSASS Dataset') \n",
        "!ls\n"
      ],
      "execution_count": 7,
      "outputs": [
        {
          "output_type": "stream",
          "text": [
            "Abuse\tArson\t Burglary   Fighting  RoadAccidents  Shooting\t  Stealing\n",
            "Arrest\tAssault  Explosion  Labels    Robbery\t     Shoplifting  Vandalism\n"
          ],
          "name": "stdout"
        }
      ]
    },
    {
      "cell_type": "code",
      "metadata": {
        "id": "ZTsu1dDA3wCM",
        "colab_type": "code",
        "outputId": "c1e063f0-10df-4f66-f61a-263643417ce3",
        "colab": {
          "base_uri": "https://localhost:8080/",
          "height": 34
        }
      },
      "source": [
        "import shutil\n",
        "dst=\"/content\"\n",
        "src=\"/content/DCSASS Dataset/Labels\"\n",
        "shutil.move(src,dst)"
      ],
      "execution_count": 8,
      "outputs": [
        {
          "output_type": "execute_result",
          "data": {
            "text/plain": [
              "'/content/Labels'"
            ]
          },
          "metadata": {
            "tags": []
          },
          "execution_count": 8
        }
      ]
    },
    {
      "cell_type": "code",
      "metadata": {
        "id": "T4hKY0h0E0Mj",
        "colab_type": "code",
        "colab": {}
      },
      "source": [
        "os.chdir(\"/content/Labels\")"
      ],
      "execution_count": 0,
      "outputs": []
    },
    {
      "cell_type": "code",
      "metadata": {
        "id": "-3_vm_JrJfgu",
        "colab_type": "code",
        "colab": {}
      },
      "source": [
        "numpy_path=\"/content/drive/My Drive/Colab Notebooks/devjam\""
      ],
      "execution_count": 0,
      "outputs": []
    },
    {
      "cell_type": "code",
      "metadata": {
        "id": "Qqsm0nPHE3MY",
        "colab_type": "code",
        "colab": {}
      },
      "source": [
        "import pandas as pd\n",
        "import numpy as np\n",
        "os.chdir(\"/content/Labels\")\n",
        "# print(os.listdir(os.getcwd()))\n",
        "ref_1=[]\n",
        "ref_2=[]\n",
        "for lab in os.listdir(os.getcwd()):\n",
        "  a=pd.read_csv(lab)\n",
        "#   print(a[a.columns[0]])\n",
        "  ref_1.append(a[a.columns[0]])\n",
        "  ref_2.append(a[a.columns[2]])\n",
        "\n",
        "  \n",
        "ref_1=np.asarray(ref_1)\n",
        "\n",
        "ref_2=np.asarray(ref_2)\n",
        "ref_1=np.concatenate( ref_1, axis=0 )\n",
        "\n",
        "ref_2=np.concatenate( ref_2, axis=0 )\n"
      ],
      "execution_count": 0,
      "outputs": []
    },
    {
      "cell_type": "code",
      "metadata": {
        "id": "BtqNmfhvFr50",
        "colab_type": "code",
        "colab": {}
      },
      "source": [
        "# import cv2\n",
        "# import os\n",
        "# import numpy as np\n",
        "# import sys\n",
        "# # from google.colab.patches import cv2_imshow\n",
        "# # import \n",
        "\n",
        "# def frames(path,loca,c):\n",
        "  \n",
        "  \n",
        "#   location=numpy_path+\"/\"+loca\n",
        "#   print(loca)\n",
        "#   print(c)\n",
        "# #   if not os.path.exists(location):\n",
        "# #         os.mkdir(location)\n",
        "#   count=0\n",
        "#   os.chdir(path)\n",
        "#   print(path)\n",
        "#   l=len(os.listdir(path))\n",
        "  \n",
        "# #   data=[None]*l\n",
        "#   c=-1\n",
        "#   training_data=[]\n",
        "#   for loc in os.listdir(path):\n",
        "#     c=c+1\n",
        "    \n",
        "    \n",
        "#     final=path+\"/\"+loc\n",
        "# #     print(final)\n",
        "# #     print(loc in ref_1)\n",
        "# #     print(loc)\n",
        "      \n",
        "# #     print(final)\n",
        "#     for j in os.listdir(final):\n",
        "# #       print(j\n",
        "      \n",
        "#       if  j[:-4] in ref_1:\n",
        "#         a=ref_2[np.where(ref_1==j[:-4])]\n",
        "# #         print(ref_2[a])\n",
        "#         image=final+\"/\"+j\n",
        "          \n",
        "      \n",
        "\n",
        "#         cap=cv2.VideoCapture(image)\n",
        "\n",
        "\n",
        "#         while(cap.isOpened()):\n",
        "# #           print(\"How are you\")\n",
        "#           ret,frame=cap.read()    \n",
        "\n",
        "#           if ret==True:\n",
        "#             if count%1000==0:\n",
        "#              print(\"No of %d frames\"%count,ret)\n",
        "# #             print(frame)\n",
        "# #             sys.exit()\n",
        "# #             cv2_imshow(frame)\n",
        "#             count=count+1\n",
        "#             training_data.append((np.asarray(frame),a))\n",
        "#           else:\n",
        "#              break\n",
        "#         cap.release()\n",
        "#         cv2.destroyAllWindows()\n",
        "#     print(c)\n",
        "#     if c%5==0:\n",
        "#       np_location=location+str(c)\n",
        "     \n",
        "#       np.save(np_location,training_data)\n",
        "#       print(\"----------Saved------------------\")\n",
        "#       training_data=[]\n",
        "# #     data[c]=training_data\n",
        "# #     training_data=[]\n",
        "#   print(os.getcwd())\n",
        "#   print(location)\n",
        "#   np.save(location,training_data)\n",
        "#   print(\"-------------------------One finished------------------------------\")\n",
        "  \n",
        "#   sys.exit()\n",
        "  \n",
        "# #   training_data=[]\n"
      ],
      "execution_count": 0,
      "outputs": []
    },
    {
      "cell_type": "code",
      "metadata": {
        "id": "40Qt4vRY1r8C",
        "colab_type": "code",
        "colab": {}
      },
      "source": [
        "import cv2\n",
        "import os\n",
        "import numpy as np\n",
        "import sys\n",
        "\n",
        "\n",
        "def frames(path,loca,c):\n",
        "  \n",
        "  \n",
        "  location=numpy_path+\"/\"+loca\n",
        "# #   print(loca)\n",
        "#   print(c)\n",
        "#   if not os.path.exists(location):\n",
        "#         os.mkdir(location)\n",
        "  \n",
        "#   location=\"\"\n",
        "  count=0\n",
        "  os.chdir(path)\n",
        "  print(path)\n",
        "  l=len(os.listdir(path))\n",
        "  print(\"You want this\",loca)\n",
        "  print(\"press one for continuing zero to skip\")\n",
        "  inp=int(input())\n",
        "  if(inp==1):\n",
        "  \n",
        "  #   data=[None]*l\n",
        "    c=0\n",
        "    training_data=[]  \n",
        "\n",
        "    for loc in os.listdir(path):\n",
        "      c=c+1\n",
        "\n",
        "      final=path+\"/\"+loc\n",
        "      for j in os.listdir(final):\n",
        "        if  j[:-4] in ref_1:\n",
        "          a=ref_2[np.where(ref_1==j[:-4])]\n",
        "          image=final+\"/\"+j\n",
        "          cap=cv2.VideoCapture(image)\n",
        "          while(cap.isOpened()):\n",
        "            ret,frame=cap.read()    \n",
        "\n",
        "            if ret==True:\n",
        "              if count%1000==0:\n",
        "                print(\"No of %d frames\"%count,ret)\n",
        "  #             print(frame.shape)\n",
        "  #             sys.exit()\n",
        "              img=cv2.resize(frame,(128,128))\n",
        "\n",
        "  #             if count%1000==0:\n",
        "  #               print(\"No of %d frames\"%count,ret)\n",
        "              count=count+1\n",
        "              training_data.append((img,a))\n",
        "            else:\n",
        "               break\n",
        "          cap.release()\n",
        "          cv2.destroyAllWindows()\n",
        "  #     print(c)\n",
        "  #     print(c)\n",
        "  #     if c%15==0:\n",
        "  #       print(c)\n",
        "\n",
        "  #       np_location=location+str(c)+\".npy\"\n",
        "  #       print(np_location)\n",
        "  #       np.save(np_location,training_data)\n",
        "  #   #       pritn\n",
        "  #       print(\"----------Saved------------------\")\n",
        "  #       training_data=[]\n",
        "\n",
        "\n",
        "  #     data[c]=training_data\n",
        "  #     training_data=[]\n",
        "    print(os.getcwd())\n",
        "    print(location)\n",
        "    np_location=location+str(c)+\".npy\"\n",
        "    np.save(np_location,training_data)\n",
        "    print(\"-------------------------One finished------------------------------\")\n",
        "  print(loca,\"over\")\n",
        "#   sys.exit()\n",
        "  \n",
        "#   training_data=[]\n"
      ],
      "execution_count": 0,
      "outputs": []
    },
    {
      "cell_type": "code",
      "metadata": {
        "id": "9wq9Jl20H4Rg",
        "colab_type": "code",
        "outputId": "bd7f8577-f07c-478c-d811-58c3a4b4c4ce",
        "colab": {
          "base_uri": "https://localhost:8080/",
          "height": 1000
        }
      },
      "source": [
        "def main():\n",
        "  os.chdir(\"/content/DCSASS Dataset\")\n",
        "  path=os.getcwd()\n",
        "  count=0\n",
        "  location=\"/content/DCSASS Dataset/Extracted_images\"\n",
        "  for i in os.listdir(path):\n",
        "    inner_path=path+\"/\"+i\n",
        "#     print(inner_path)\n",
        "    count=count+1   \n",
        "    frames(inner_path,i,count)\n",
        "#     print(final)\n",
        "    \n",
        "        \n",
        "\n",
        "main()    "
      ],
      "execution_count": 5,
      "outputs": [
        {
          "output_type": "stream",
          "text": [
            "/content/DCSASS Dataset/Abuse\n",
            "You want this Abuse\n",
            "press one for continuing zero to skip\n",
            "0\n",
            "Abuse over\n",
            "/content/DCSASS Dataset/Shoplifting\n",
            "You want this Shoplifting\n",
            "press one for continuing zero to skip\n",
            "0\n",
            "Shoplifting over\n",
            "/content/DCSASS Dataset/Burglary\n",
            "You want this Burglary\n",
            "press one for continuing zero to skip\n",
            "0\n",
            "Burglary over\n",
            "/content/DCSASS Dataset/Assault\n",
            "You want this Assault\n",
            "press one for continuing zero to skip\n",
            "0\n",
            "Assault over\n",
            "/content/DCSASS Dataset/Arrest\n",
            "You want this Arrest\n",
            "press one for continuing zero to skip\n",
            "0\n",
            "Arrest over\n",
            "/content/DCSASS Dataset/Shooting\n",
            "You want this Shooting\n",
            "press one for continuing zero to skip\n",
            "0\n",
            "Shooting over\n",
            "/content/DCSASS Dataset/Robbery\n",
            "You want this Robbery\n",
            "press one for continuing zero to skip\n",
            "0\n",
            "Robbery over\n",
            "/content/DCSASS Dataset/Stealing\n",
            "You want this Stealing\n",
            "press one for continuing zero to skip\n",
            "0\n",
            "Stealing over\n",
            "/content/DCSASS Dataset/RoadAccidents\n",
            "You want this RoadAccidents\n",
            "press one for continuing zero to skip\n",
            "0\n",
            "RoadAccidents over\n",
            "/content/DCSASS Dataset/Explosion\n",
            "You want this Explosion\n",
            "press one for continuing zero to skip\n",
            "0\n",
            "Explosion over\n",
            "/content/DCSASS Dataset/Vandalism\n",
            "You want this Vandalism\n",
            "press one for continuing zero to skip\n",
            "1\n",
            "No of 0 frames True\n",
            "No of 1000 frames True\n",
            "No of 2000 frames True\n",
            "No of 3000 frames True\n",
            "No of 4000 frames True\n",
            "No of 5000 frames True\n",
            "No of 6000 frames True\n",
            "No of 7000 frames True\n",
            "No of 8000 frames True\n",
            "No of 9000 frames True\n",
            "No of 10000 frames True\n",
            "No of 11000 frames True\n",
            "No of 12000 frames True\n",
            "No of 13000 frames True\n",
            "No of 14000 frames True\n",
            "No of 15000 frames True\n",
            "No of 16000 frames True\n",
            "No of 17000 frames True\n",
            "No of 18000 frames True\n",
            "No of 19000 frames True\n",
            "No of 20000 frames True\n",
            "No of 21000 frames True\n",
            "No of 22000 frames True\n",
            "No of 23000 frames True\n",
            "No of 24000 frames True\n",
            "No of 25000 frames True\n",
            "No of 26000 frames True\n",
            "No of 27000 frames True\n",
            "No of 28000 frames True\n",
            "No of 29000 frames True\n",
            "No of 30000 frames True\n",
            "No of 31000 frames True\n",
            "No of 32000 frames True\n",
            "No of 33000 frames True\n",
            "No of 34000 frames True\n",
            "No of 35000 frames True\n",
            "No of 36000 frames True\n",
            "No of 37000 frames True\n",
            "No of 38000 frames True\n",
            "No of 39000 frames True\n",
            "No of 40000 frames True\n",
            "No of 41000 frames True\n",
            "No of 42000 frames True\n",
            "No of 43000 frames True\n",
            "No of 44000 frames True\n",
            "No of 45000 frames True\n",
            "No of 46000 frames True\n",
            "No of 47000 frames True\n",
            "No of 48000 frames True\n",
            "No of 49000 frames True\n",
            "No of 50000 frames True\n",
            "No of 51000 frames True\n",
            "No of 52000 frames True\n",
            "No of 53000 frames True\n",
            "/content/DCSASS Dataset/Vandalism\n",
            "/content/drive/My Drive/Colab Notebooks/devjam/Vandalism\n",
            "-------------------------One finished------------------------------\n",
            "Vandalism over\n",
            "/content/DCSASS Dataset/Arson\n",
            "You want this Arson\n",
            "press one for continuing zero to skip\n",
            "0\n",
            "Arson over\n",
            "/content/DCSASS Dataset/Fighting\n",
            "You want this Fighting\n",
            "press one for continuing zero to skip\n",
            "1\n",
            "No of 0 frames True\n",
            "No of 1000 frames True\n",
            "No of 2000 frames True\n",
            "No of 3000 frames True\n",
            "No of 4000 frames True\n",
            "No of 5000 frames True\n",
            "No of 6000 frames True\n",
            "No of 7000 frames True\n",
            "No of 8000 frames True\n",
            "No of 9000 frames True\n",
            "No of 10000 frames True\n",
            "No of 11000 frames True\n",
            "No of 12000 frames True\n",
            "No of 13000 frames True\n",
            "No of 14000 frames True\n",
            "No of 15000 frames True\n",
            "No of 16000 frames True\n",
            "/content/DCSASS Dataset/Fighting\n",
            "/content/drive/My Drive/Colab Notebooks/devjam/Fighting\n",
            "-------------------------One finished------------------------------\n",
            "Fighting over\n"
          ],
          "name": "stdout"
        }
      ]
    },
    {
      "cell_type": "code",
      "metadata": {
        "id": "UqXJqtT67amR",
        "colab_type": "code",
        "outputId": "f4aa68f4-66df-4997-8bbc-ba742e46af25",
        "colab": {
          "base_uri": "https://localhost:8080/",
          "height": 342
        }
      },
      "source": [
        "a=np.load(\"/content/drive/My Drive/Colab Notebooks/devjam/Abuse39.npy\",allow_pickle=True)\n",
        "# a[4513][0\n",
        "print(a[0])       "
      ],
      "execution_count": 6,
      "outputs": [
        {
          "output_type": "error",
          "ename": "KeyboardInterrupt",
          "evalue": "ignored",
          "traceback": [
            "\u001b[0;31m---------------------------------------------------------------------------\u001b[0m",
            "\u001b[0;31mKeyboardInterrupt\u001b[0m                         Traceback (most recent call last)",
            "\u001b[0;32m<ipython-input-6-240aec7788df>\u001b[0m in \u001b[0;36m<module>\u001b[0;34m()\u001b[0m\n\u001b[0;32m----> 1\u001b[0;31m \u001b[0ma\u001b[0m\u001b[0;34m=\u001b[0m\u001b[0mnp\u001b[0m\u001b[0;34m.\u001b[0m\u001b[0mload\u001b[0m\u001b[0;34m(\u001b[0m\u001b[0;34m\"/content/drive/My Drive/Colab Notebooks/devjam/Abuse39.npy\"\u001b[0m\u001b[0;34m,\u001b[0m\u001b[0mallow_pickle\u001b[0m\u001b[0;34m=\u001b[0m\u001b[0;32mTrue\u001b[0m\u001b[0;34m)\u001b[0m\u001b[0;34m\u001b[0m\u001b[0;34m\u001b[0m\u001b[0m\n\u001b[0m\u001b[1;32m      2\u001b[0m \u001b[0;31m# a[4513][0\u001b[0m\u001b[0;34m\u001b[0m\u001b[0;34m\u001b[0m\u001b[0;34m\u001b[0m\u001b[0m\n\u001b[1;32m      3\u001b[0m \u001b[0mprint\u001b[0m\u001b[0;34m(\u001b[0m\u001b[0ma\u001b[0m\u001b[0;34m[\u001b[0m\u001b[0;36m0\u001b[0m\u001b[0;34m]\u001b[0m\u001b[0;34m)\u001b[0m\u001b[0;34m\u001b[0m\u001b[0;34m\u001b[0m\u001b[0m\n",
            "\u001b[0;32m/usr/local/lib/python3.6/dist-packages/numpy/lib/npyio.py\u001b[0m in \u001b[0;36mload\u001b[0;34m(file, mmap_mode, allow_pickle, fix_imports, encoding)\u001b[0m\n\u001b[1;32m    445\u001b[0m             \u001b[0;32melse\u001b[0m\u001b[0;34m:\u001b[0m\u001b[0;34m\u001b[0m\u001b[0;34m\u001b[0m\u001b[0m\n\u001b[1;32m    446\u001b[0m                 return format.read_array(fid, allow_pickle=allow_pickle,\n\u001b[0;32m--> 447\u001b[0;31m                                          pickle_kwargs=pickle_kwargs)\n\u001b[0m\u001b[1;32m    448\u001b[0m         \u001b[0;32melse\u001b[0m\u001b[0;34m:\u001b[0m\u001b[0;34m\u001b[0m\u001b[0;34m\u001b[0m\u001b[0m\n\u001b[1;32m    449\u001b[0m             \u001b[0;31m# Try a pickle\u001b[0m\u001b[0;34m\u001b[0m\u001b[0;34m\u001b[0m\u001b[0;34m\u001b[0m\u001b[0m\n",
            "\u001b[0;32m/usr/local/lib/python3.6/dist-packages/numpy/lib/format.py\u001b[0m in \u001b[0;36mread_array\u001b[0;34m(fp, allow_pickle, pickle_kwargs)\u001b[0m\n\u001b[1;32m    699\u001b[0m             \u001b[0mpickle_kwargs\u001b[0m \u001b[0;34m=\u001b[0m \u001b[0;34m{\u001b[0m\u001b[0;34m}\u001b[0m\u001b[0;34m\u001b[0m\u001b[0;34m\u001b[0m\u001b[0m\n\u001b[1;32m    700\u001b[0m         \u001b[0;32mtry\u001b[0m\u001b[0;34m:\u001b[0m\u001b[0;34m\u001b[0m\u001b[0;34m\u001b[0m\u001b[0m\n\u001b[0;32m--> 701\u001b[0;31m             \u001b[0marray\u001b[0m \u001b[0;34m=\u001b[0m \u001b[0mpickle\u001b[0m\u001b[0;34m.\u001b[0m\u001b[0mload\u001b[0m\u001b[0;34m(\u001b[0m\u001b[0mfp\u001b[0m\u001b[0;34m,\u001b[0m \u001b[0;34m**\u001b[0m\u001b[0mpickle_kwargs\u001b[0m\u001b[0;34m)\u001b[0m\u001b[0;34m\u001b[0m\u001b[0;34m\u001b[0m\u001b[0m\n\u001b[0m\u001b[1;32m    702\u001b[0m         \u001b[0;32mexcept\u001b[0m \u001b[0mUnicodeError\u001b[0m \u001b[0;32mas\u001b[0m \u001b[0merr\u001b[0m\u001b[0;34m:\u001b[0m\u001b[0;34m\u001b[0m\u001b[0;34m\u001b[0m\u001b[0m\n\u001b[1;32m    703\u001b[0m             \u001b[0;32mif\u001b[0m \u001b[0msys\u001b[0m\u001b[0;34m.\u001b[0m\u001b[0mversion_info\u001b[0m\u001b[0;34m[\u001b[0m\u001b[0;36m0\u001b[0m\u001b[0;34m]\u001b[0m \u001b[0;34m>=\u001b[0m \u001b[0;36m3\u001b[0m\u001b[0;34m:\u001b[0m\u001b[0;34m\u001b[0m\u001b[0;34m\u001b[0m\u001b[0m\n",
            "\u001b[0;31mKeyboardInterrupt\u001b[0m: "
          ]
        }
      ]
    }
  ]
}